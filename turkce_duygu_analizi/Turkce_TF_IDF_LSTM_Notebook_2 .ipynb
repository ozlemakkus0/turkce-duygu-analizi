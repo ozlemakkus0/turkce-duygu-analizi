{
 "cells": [
  {
   "cell_type": "markdown",
   "id": "2255e947",
   "metadata": {},
   "source": [
    "# 📈 Gelişmiş Türkçe Metin Analizi: TF-IDF, LSTM ve Doğrulama\n",
    "Bu notebook, Türkçe yorumlarla duygu analizi yapmak için TF-IDF ve LSTM modellerini kullanır. Eğitim/Doğrulama ayrımı, model performansı ve grafiklerle desteklenmiştir."
   ]
  },
  {
   "cell_type": "code",
   "execution_count": null,
   "id": "50d68cbb",
   "metadata": {},
   "outputs": [],
   "source": [
    "!pip install tensorflow scikit-learn matplotlib nltk"
   ]
  },
  {
   "cell_type": "code",
   "execution_count": null,
   "id": "9f4e7129",
   "metadata": {},
   "outputs": [],
   "source": [
    "\n",
    "import re\n",
    "import numpy as np\n",
    "import nltk\n",
    "import matplotlib.pyplot as plt\n",
    "from nltk.corpus import stopwords\n",
    "from sklearn.model_selection import train_test_split\n",
    "from sklearn.feature_extraction.text import TfidfVectorizer\n",
    "from tensorflow.keras.preprocessing.text import Tokenizer\n",
    "from tensorflow.keras.preprocessing.sequence import pad_sequences\n",
    "from tensorflow.keras.models import Sequential\n",
    "from tensorflow.keras.layers import Embedding, LSTM, Dense\n",
    "from tensorflow.keras.callbacks import EarlyStopping\n",
    "\n",
    "nltk.download('stopwords')\n",
    "stop_words = set(stopwords.words(\"turkish\"))\n",
    "\n",
    "def temizle_ve_tokenize(metin):\n",
    "    temiz_metin = re.sub(r\"[^\\w\\s]\", \"\", metin)\n",
    "    temiz_metin = temiz_metin.lower()\n",
    "    kelimeler = temiz_metin.split()\n",
    "    temiz_kelimeler = [k for k in kelimeler if k not in stop_words]\n",
    "    return \" \".join(temiz_kelimeler)\n"
   ]
  },
  {
   "cell_type": "code",
   "execution_count": null,
   "id": "f179a3dc",
   "metadata": {},
   "outputs": [],
   "source": [
    "\n",
    "yorumlar = [\n",
    "    \"Film çok güzeldi, bayıldım!\",\n",
    "    \"Hiç beğenmedim, çok sıkıcıydı.\",\n",
    "    \"Oyunculuk harikaydı ama senaryo zayıftı.\",\n",
    "    \"Bu kadar kötü bir film izlememiştim.\",\n",
    "    \"Görsel efektler başarılıydı.\",\n",
    "    \"Kurgusu çok iyiydi, çok etkilendim.\",\n",
    "    \"Zaman kaybıydı, hiç sevmedim.\",\n",
    "    \"Efektler dışında her şey berbattı.\",\n",
    "    \"Hikaye sürükleyiciydi ve oyunculuk da çok iyiydi.\",\n",
    "    \"Sıkıldım, tekrar izlemem.\"\n",
    "]\n",
    "etiketler = np.array([1, 0, 1, 0, 1, 1, 0, 0, 1, 0])\n",
    "\n",
    "temizlenmis_yorumlar = [temizle_ve_tokenize(y) for y in yorumlar]\n",
    "\n",
    "# Eğitim ve doğrulama ayrımı\n",
    "X_train, X_test, y_train, y_test = train_test_split(temizlenmis_yorumlar, etiketler, test_size=0.2, random_state=42)\n"
   ]
  },
  {
   "cell_type": "code",
   "execution_count": null,
   "id": "ccf9d2e8",
   "metadata": {},
   "outputs": [],
   "source": [
    "\n",
    "tokenizer = Tokenizer(num_words=1000)\n",
    "tokenizer.fit_on_texts(X_train)\n",
    "\n",
    "X_train_seq = tokenizer.texts_to_sequences(X_train)\n",
    "X_test_seq = tokenizer.texts_to_sequences(X_test)\n",
    "\n",
    "X_train_pad = pad_sequences(X_train_seq, maxlen=10)\n",
    "X_test_pad = pad_sequences(X_test_seq, maxlen=10)\n"
   ]
  },
  {
   "cell_type": "code",
   "execution_count": null,
   "id": "9eb13a61",
   "metadata": {},
   "outputs": [],
   "source": [
    "\n",
    "model = Sequential()\n",
    "model.add(Embedding(input_dim=1000, output_dim=32, input_length=10))\n",
    "model.add(LSTM(32))\n",
    "model.add(Dense(1, activation='sigmoid'))\n",
    "\n",
    "model.compile(optimizer='adam', loss='binary_crossentropy', metrics=['accuracy'])\n",
    "\n",
    "# Erken durdurma (overfitting önlemi)\n",
    "early_stop = EarlyStopping(monitor='val_loss', patience=3)\n",
    "\n",
    "# Eğitim\n",
    "history = model.fit(X_train_pad, y_train, validation_data=(X_test_pad, y_test), epochs=20, callbacks=[early_stop])\n"
   ]
  },
  {
   "cell_type": "code",
   "execution_count": null,
   "id": "8836e75c",
   "metadata": {},
   "outputs": [],
   "source": [
    "\n",
    "plt.plot(history.history['accuracy'], label='Eğitim Doğruluğu')\n",
    "plt.plot(history.history['val_accuracy'], label='Doğrulama Doğruluğu')\n",
    "plt.xlabel('Epoch')\n",
    "plt.ylabel('Doğruluk')\n",
    "plt.legend()\n",
    "plt.title('Eğitim vs Doğrulama Başarımı')\n",
    "plt.show()\n"
   ]
  },
  {
   "cell_type": "code",
   "execution_count": null,
   "id": "1aea30d5",
   "metadata": {},
   "outputs": [],
   "source": [
    "\n",
    "# Modeli kaydet\n",
    "model.save(\"duygu_modeli.h5\")\n",
    "print(\"Model kaydedildi.\")\n",
    "\n",
    "# Modeli yüklemek istersen:\n",
    "# from tensorflow.keras.models import load_model\n",
    "# model = load_model(\"duygu_modeli.h5\")\n"
   ]
  },
  {
   "cell_type": "code",
   "execution_count": null,
   "id": "6e8298b5",
   "metadata": {},
   "outputs": [],
   "source": [
    "\n",
    "def yorum_tahmin_et(yorum):\n",
    "    temiz = temizle_ve_tokenize(yorum)\n",
    "    seq = tokenizer.texts_to_sequences([temiz])\n",
    "    pad_seq = pad_sequences(seq, maxlen=10)\n",
    "    tahmin = model.predict(pad_seq)[0][0]\n",
    "    print(f\"Yorum: {yorum}\")\n",
    "    print(f\"Tahmin (0=olumsuz, 1=olumlu): {tahmin:.2f}\")\n",
    "\n",
    "# Örnek yorum tahminleri\n",
    "yorum_tahmin_et(\"Film gerçekten çok etkileyiciydi, bayıldım.\")\n",
    "yorum_tahmin_et(\"Bu ne biçim filmdi ya, hiç beğenmedim.\")\n"
   ]
  },
  {
   "cell_type": "code",
   "execution_count": null,
   "id": "b5732d3c",
   "metadata": {},
   "outputs": [],
   "source": [
    "\n",
    "from sklearn.metrics import classification_report, confusion_matrix\n",
    "import seaborn as sns\n",
    "\n",
    "# Test seti için tahmin\n",
    "y_pred = (model.predict(X_test_pad) > 0.5).astype(\"int32\")\n",
    "\n",
    "# Confusion matrix çiz\n",
    "cm = confusion_matrix(y_test, y_pred)\n",
    "sns.heatmap(cm, annot=True, fmt=\"d\", cmap=\"Blues\")\n",
    "plt.xlabel(\"Tahmin\")\n",
    "plt.ylabel(\"Gerçek\")\n",
    "plt.title(\"Confusion Matrix\")\n",
    "plt.show()\n",
    "\n",
    "# Rapor\n",
    "print(classification_report(y_test, y_pred, digits=3))\n"
   ]
  }
 ],
 "metadata": {},
 "nbformat": 4,
 "nbformat_minor": 5
}
